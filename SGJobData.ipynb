{
  "nbformat": 4,
  "nbformat_minor": 0,
  "metadata": {
    "colab": {
      "provenance": [],
      "include_colab_link": true
    },
    "kernelspec": {
      "name": "python3",
      "display_name": "Python 3"
    },
    "language_info": {
      "name": "python"
    }
  },
  "cells": [
    {
      "cell_type": "markdown",
      "metadata": {
        "id": "view-in-github",
        "colab_type": "text"
      },
      "source": [
        "<a href=\"https://colab.research.google.com/github/spideyeng/1Nov2025coaching/blob/main/SGJobData.ipynb\" target=\"_parent\"><img src=\"https://colab.research.google.com/assets/colab-badge.svg\" alt=\"Open In Colab\"/></a>"
      ]
    },
    {
      "cell_type": "code",
      "execution_count": null,
      "metadata": {
        "id": "d0uHp0ELOdQx"
      },
      "outputs": [],
      "source": [
        "import numpy as np\n",
        "import pandas as pd"
      ]
    },
    {
      "cell_type": "code",
      "metadata": {
        "id": "f204bf4e"
      },
      "source": [
        "# from google.colab import files\n",
        "# import pandas as pd\n",
        "\n",
        "# # This will open a file browser so you can select your local CSV file\n",
        "# uploaded = files.upload()\n",
        "\n",
        "# # Get the file name from the uploaded dictionary\n",
        "# file_name = next(iter(uploaded))\n",
        "\n",
        "# # Use the file name (path in the Colab environment) to read the CSV into a pandas DataFrame\n",
        "# df = pd.read_csv(file_name)\n",
        "\n",
        "# display(df.head())"
      ],
      "execution_count": null,
      "outputs": []
    },
    {
      "cell_type": "code",
      "metadata": {
        "id": "fb8a0f9e"
      },
      "source": [
        "file_path = '/SGJobData.csv'\n",
        "df = pd.read_csv(file_path)\n",
        "\n",
        "display(df.head())"
      ],
      "execution_count": null,
      "outputs": []
    },
    {
      "cell_type": "code",
      "metadata": {
        "id": "9323fa81"
      },
      "source": [
        "print(\"Number of rows:\", df.shape[0])"
      ],
      "execution_count": null,
      "outputs": []
    },
    {
      "cell_type": "code",
      "metadata": {
        "id": "65e029eb"
      },
      "source": [
        "# Convert date columns to datetime objects\n",
        "date_columns = ['metadata_expiryDate', 'metadata_newPostingDate', 'metadata_originalPostingDate']\n",
        "for col in date_columns:\n",
        "    df[col] = pd.to_datetime(df[col], errors='coerce')\n",
        "\n",
        "# Create a new column for the average salary\n",
        "df['average_salary'] = (df['salary_minimum'] + df['salary_maximum']) / 2\n",
        "\n",
        "display(df[['salary_minimum', 'salary_maximum', 'average_salary', 'metadata_newPostingDate']].head())"
      ],
      "execution_count": null,
      "outputs": []
    },
    {
      "cell_type": "code",
      "metadata": {
        "id": "89ee2958"
      },
      "source": [
        "# Display column names and data types\n",
        "print(\"Column Information:\")\n",
        "display(df.info())\n",
        "\n",
        "# Display basic statistics for numerical columns\n",
        "print(\"\\nBasic Statistics:\")\n",
        "display(df.describe())\n",
        "\n",
        "# Display the number of unique values in each column\n",
        "print(\"\\nUnique Values per Column:\")\n",
        "for col in df.columns:\n",
        "    print(f\"{col}: {df[col].nunique()} unique values\")"
      ],
      "execution_count": null,
      "outputs": []
    },
    {
      "cell_type": "code",
      "metadata": {
        "id": "c49b62d4"
      },
      "source": [
        "import plotly.express as px\n",
        "\n",
        "# Count job postings by date\n",
        "job_postings_over_time = df.groupby(df['metadata_newPostingDate'].dt.date).size().reset_index(name='count')\n",
        "job_postings_over_time['metadata_newPostingDate'] = pd.to_datetime(job_postings_over_time['metadata_newPostingDate'])\n",
        "\n",
        "# Create an interactive time series plot\n",
        "fig = px.line(job_postings_over_time, x='metadata_newPostingDate', y='count', title='Job Postings Over Time')\n",
        "fig.show()"
      ],
      "execution_count": null,
      "outputs": []
    },
    {
      "cell_type": "code",
      "source": [
        "import plotly.graph_objects as go\n",
        "\n",
        "# Group by date and calculate average salary\n",
        "salary_over_time = df.groupby(df['metadata_newPostingDate'].dt.date)[['salary_minimum', 'salary_maximum']].mean().reset_index()\n",
        "salary_over_time['metadata_newPostingDate'] = pd.to_datetime(salary_over_time['metadata_newPostingDate'])\n",
        "\n",
        "# Create an interactive time series plot for average salaries\n",
        "fig = go.Figure()\n",
        "\n",
        "fig.add_trace(go.Scatter(x=salary_over_time['metadata_newPostingDate'], y=salary_over_time['salary_minimum'], mode='lines', name='Average Minimum Salary'))\n",
        "fig.add_trace(go.Scatter(x=salary_over_time['metadata_newPostingDate'], y=salary_over_time['salary_maximum'], mode='lines', name='Average Maximum Salary'))\n",
        "\n",
        "\n",
        "fig.update_layout(\n",
        "    title='Average Minimum and Maximum Salary Over Time',\n",
        "    xaxis_title='Date',\n",
        "    yaxis_title='Salary'\n",
        ")\n",
        "\n",
        "fig.show()"
      ],
      "metadata": {
        "id": "cJEMFYYaeBb3"
      },
      "execution_count": null,
      "outputs": []
    }
  ]
}